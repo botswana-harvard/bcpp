{
 "cells": [
  {
   "cell_type": "code",
   "execution_count": 8,
   "metadata": {},
   "outputs": [],
   "source": [
    "# ssh -f django@bcpp-dbs.bhp.org.bw -L5003:localhost:3306 -N\n",
    "# ssh -f django@bhp066.bhp.org.bw -L5002:localhost:3306 -N"
   ]
  },
  {
   "cell_type": "code",
   "execution_count": 11,
   "metadata": {},
   "outputs": [
    {
     "name": "stdout",
     "output_type": "stream",
     "text": [
      "['066-22220008-5', '066-22390035-2', '066-22540012-4', '066-22150024-0', '066-22510003-4', '066-22370012-6', '066-22220004-1', '066-22350021-0', 'Subject_identifier', '066-22510020-0', '066-22540003-2', '066-22250002-4', '066-22280019-5', '066-22220023-6', '066-22280016-2', '066-22250021-2', '066-22370010-4', '066-22220025-1', '066-22310024-1', '066-22510021-1', '066-22350003-3', '066-22390038-5', '066-22250012-0', '066-22260007-6', '066-22620304-6', '066-22150027-3', '066-22280018-4', '066-22280026-5', '066-22310019-3', '066-22230002-3', '066-22270024-6', '066-22150030-6', '066-22510004-5', '066-22370015-2', '066-22150025-1', '066-22240008-6', '066-22230014-1', '066-22810003-5', '066-22270021-3', '066-22280029-1', '066-22370004-5', '066-22230032-5', '066-22260013-5', '066-22390039-6', '066-22270018-0', '066-22270010-6', '066-22400028-6', '066-22150026-2', '066-22510007-1', '066-22310002-0', '066-22350010-3', '066-22510009-3', '066-22280025-4', '066-22270002-5', '066-22230006-0', '066-22270033-1', '066-22280030-2', '066-22530025-6']\n"
     ]
    }
   ],
   "source": [
    "# List of missing subject identifier\n",
    "missing_arvs = []\n",
    "file_name = '/Users/ckgathi/Downloads/BHP_FILE/sefophe.csv'\n",
    "f = open(file_name, 'r')\n",
    "lines = f.readlines()\n",
    "lines.pop(0)\n",
    "for line in lines:\n",
    "    line = line.strip()\n",
    "    line = line.replace(',', '')\n",
    "    missing_arvs.append(line)\n",
    "\n",
    "missing_arvs = list(set(missing_arvs))\n",
    "print(missing_arvs)"
   ]
  },
  {
   "cell_type": "code",
   "execution_count": 14,
   "metadata": {},
   "outputs": [
    {
     "name": "stdout",
     "output_type": "stream",
     "text": [
      "166\n"
     ]
    }
   ],
   "source": [
    "# List of id for missing avrs data for HivCareAdherence\n",
    "from bcpp_subject.models import HivCareAdherence\n",
    "from django_pandas.io import read_frame\n",
    "\n",
    "hiv_care_adherence = HivCareAdherence.objects.using('community').filter(subject_visit__subject_identifier__in=missing_arvs)\n",
    "print(hiv_care_adherence.count())\n",
    "df = read_frame(hiv_care_adherence)\n",
    "hiv_care_adherence_ids = df['id'].tolist()\n",
    "ids = []\n",
    "for id in hiv_care_adherence_ids:\n",
    "    ids.append(id.hex)\n",
    "ids = list(set(ids))"
   ]
  },
  {
   "cell_type": "code",
   "execution_count": null,
   "metadata": {},
   "outputs": [],
   "source": []
  },
  {
   "cell_type": "code",
   "execution_count": 16,
   "metadata": {},
   "outputs": [
    {
     "name": "stdout",
     "output_type": "stream",
     "text": [
      "------------------------------------------------\n",
      "Found items avr: 0\n",
      "[]\n",
      "------------------------------------------------\n",
      "Found items prev_arvs: 0\n",
      "[]\n",
      "------------------------------------------------\n"
     ]
    }
   ],
   "source": [
    "import MySQLdb\n",
    "import pandas as pd\n",
    "db_name = 'gumare'\n",
    "connection = MySQLdb.connect(host='127.0.0.1', port=5003,user='root', passwd='cc3721b', db=f'{db_name}')\n",
    "data_arv = []\n",
    "data_prev_arvs = []\n",
    "\n",
    "count_found_arv = 0\n",
    "count_found_prev_arvs = 0\n",
    "for idd in ids:\n",
    "    sql_arvs = f\"SELECT CONCAT(bcpp_subject_arv.short_name, bcpp_subject_hivcareadherence_arvs.hivcareadherence_id) as avr_id FROM bcpp_subject_arv INNER JOIN bcpp_subject_hivcareadherence_arvs ON bcpp_subject_arv.id = bcpp_subject_hivcareadherence_arvs.arv_id WHERE bcpp_subject_hivcareadherence_arvs.hivcareadherence_id = \\'{idd}\\';\"\n",
    "    sql_prev_arvs = f\"SELECT CONCAT(bcpp_subject_arv.short_name, bcpp_subject_hivcareadherence_prev_arvs.hivcareadherence_id) as prev_arvs_id FROM bcpp_subject_arv INNER JOIN bcpp_subject_hivcareadherence_prev_arvs ON bcpp_subject_arv.id = bcpp_subject_hivcareadherence_prev_arvs.arv_id WHERE bcpp_subject_hivcareadherence_prev_arvs.hivcareadherence_id = \\'{idd}\\';\"\n",
    "    df_arvs = pd.read_sql(sql_arvs, con=connection)\n",
    "    df_prev_arvs = pd.read_sql(sql_prev_arvs, con=connection)\n",
    "    if not df_arvs.empty:\n",
    "        arvs_ids_list = df_arvs['avr_id'].tolist()\n",
    "        if len(arvs_ids_list) > 1:\n",
    "            count_found_arv += len(arvs_ids_list)\n",
    "        else:\n",
    "            count_found_arv += 1\n",
    "        data_arv.append(arvs_ids_list)\n",
    "    if not df_prev_arvs.empty:\n",
    "        prev_arvs_ids_list = df_prev_arvs['prev_arvs_id'].tolist()\n",
    "        if len(prev_arvs_ids_list) > 1:\n",
    "            count_found_prev_arvs += len(prev_arvs_ids_list)\n",
    "        else:\n",
    "            count_found_prev_arvs += 1\n",
    "        data_prev_arvs.append(prev_arvs_ids_list)\n",
    "print('------------------------------------------------')\n",
    "print(f\"Found items avr: {count_found_arv}\")\n",
    "print(data_arv)\n",
    "print('------------------------------------------------')\n",
    "print(f\"Found items prev_arvs: {count_found_prev_arvs}\")\n",
    "print(data_prev_arvs)\n",
    "print('------------------------------------------------')"
   ]
  },
  {
   "cell_type": "code",
   "execution_count": 4,
   "metadata": {},
   "outputs": [
    {
     "name": "stdout",
     "output_type": "stream",
     "text": [
      "PRESENT Lopinavir/ritonavir f657ef76c15545d6a9809f111b46d01c 066-205000031-1 mmathethe\n",
      "PRESENT Lopinavir/ritonavir 513401b4c9bd4b00853c693fa43021c6 066-205100075-7 mmathethe\n",
      "PRESENT Lopinavir/ritonavir b378bbd68cc143fcac81c2d332f92ecb 066-16300014-2 lentsweletau\n",
      "PRESENT Lopinavir/ritonavir e345543f343e4134837815dfdfa63eb6 066-204500034-3 mmathethe\n",
      "PRESENT Lopinavir/ritonavir bad2f0b476124ceb91ae25d055643473 066-205100070-8 mmathethe\n",
      "PRESENT Lopinavir/ritonavir 7fa639271ec945f0b6985b2d65436ed0 066-236800045-8 maunatlala\n",
      "PRESENT Lopinavir/ritonavir 158bfd8990b54f0b9289c072a74ab53e 066-23910156-3 maunatlala\n",
      "PRESENT Lopinavir/ritonavir 12be8cb2914a4d4abdc1b242a48c2745 066-236800034-2 maunatlala\n",
      "PRESENT Lopinavir/ritonavir ac7cc51b37d14fe1a66174e3f2779fe0 066-163000027-0 lentsweletau\n"
     ]
    }
   ],
   "source": [
    "# Update central server\n",
    "from bcpp_subject.models import Arv\n",
    "count_moved_avr = 0\n",
    "ccc_avr = []\n",
    "items_avr = 0\n",
    "for d in data_arv:\n",
    "    for hca_id in d:\n",
    "        short_name = hca_id[:-32]\n",
    "        obj_uuid = hca_id[-32:]\n",
    "        try:\n",
    "            hca = HivCareAdherence.objects.using('bhp066').get(id=obj_uuid)\n",
    "        except HivCareAdherence.DoesNotExist:\n",
    "            print(f'this is a problem it needs to be moved to the server {hca_id}')\n",
    "        else:\n",
    "            arv = Arv.objects.get(short_name=short_name)\n",
    "            if not arv in hca.arvs.all():\n",
    "                hca.arvs.add(arv)\n",
    "                hca.save_base(using='bhp066', raw=True)\n",
    "                count_moved_avr += 1\n",
    "                ccc_avr.append(obj_uuid)\n",
    "                print(short_name, obj_uuid, hca.subject_visit.subject_identifier, hca.subject_visit.household_member.household_structure.household.plot.map_area)\n",
    "            else:\n",
    "                print(\"PRESENT\", short_name, obj_uuid, hca.subject_visit.subject_identifier, hca.subject_visit.household_member.household_structure.household.plot.map_area)\n",
    "        items_avr += 1"
   ]
  },
  {
   "cell_type": "code",
   "execution_count": 5,
   "metadata": {},
   "outputs": [
    {
     "name": "stdout",
     "output_type": "stream",
     "text": [
      "PRESENT Zidovudine/lamivudine b378bbd68cc143fcac81c2d332f92ecb 066-16300014-2 lentsweletau\n",
      "PRESENT Zidovudine/lamivudine bad2f0b476124ceb91ae25d055643473 066-205100070-8 mmathethe\n"
     ]
    }
   ],
   "source": [
    "# Update central server\n",
    "from bcpp_subject.models import Arv\n",
    "count_moved_prev_avr = 0\n",
    "ccc_prev_avr = []\n",
    "items_avr = 0\n",
    "for d in data_prev_arvs:\n",
    "    for hca_id in d:\n",
    "        short_name = hca_id[:-32]\n",
    "        obj_uuid = hca_id[-32:]\n",
    "        try:\n",
    "            hca = HivCareAdherence.objects.using('bhp066').get(id=obj_uuid)\n",
    "        except HivCareAdherence.DoesNotExist:\n",
    "            print(f'this is a problem it needs to be moved to the server {hca_id}')\n",
    "        else:\n",
    "            arv = Arv.objects.get(short_name=short_name)\n",
    "            if not arv in hca.prev_arvs.all():\n",
    "                hca.prev_arvs.add(arv)\n",
    "                hca.save_base(using='bhp066', raw=True)\n",
    "                count_moved_prev_avr += 1\n",
    "                ccc_prev_avr.append(obj_uuid)\n",
    "                print(short_name, obj_uuid, hca.subject_visit.subject_identifier, hca.subject_visit.household_member.household_structure.household.plot.map_area)\n",
    "            else:\n",
    "                print(\"PRESENT\", short_name, obj_uuid, hca.subject_visit.subject_identifier, hca.subject_visit.household_member.household_structure.household.plot.map_area)\n",
    "        items_avr += 1\n",
    "        "
   ]
  },
  {
   "cell_type": "code",
   "execution_count": 6,
   "metadata": {},
   "outputs": [
    {
     "name": "stdout",
     "output_type": "stream",
     "text": [
      "Missing:  0\n",
      "Available:  9\n"
     ]
    }
   ],
   "source": [
    "# Check if the data has been moved\n",
    "mis_arv = 0\n",
    "available = 0\n",
    "for d in data_arv:\n",
    "    for hca_id in d:\n",
    "        short_name = hca_id[:-32]\n",
    "        obj_uuid = hca_id[-32:]\n",
    "        try:\n",
    "            hca = HivCareAdherence.objects.get(id=obj_uuid)\n",
    "        except HivCareAdherence.DoesNotExist:\n",
    "            pass\n",
    "        else:\n",
    "            arv = Arv.objects.get(short_name=short_name)\n",
    "            if not arv in hca.arvs.all():\n",
    "                mis_arv += 1\n",
    "            else:\n",
    "                available += 1\n",
    "print(\"Missing: \", mis_arv)            \n",
    "print(\"Available: \", available)"
   ]
  },
  {
   "cell_type": "code",
   "execution_count": 7,
   "metadata": {},
   "outputs": [
    {
     "name": "stdout",
     "output_type": "stream",
     "text": [
      "Missing prev arv:  0\n",
      "Available Prev Arv:  2\n"
     ]
    }
   ],
   "source": [
    "# Check if the data has been moved\n",
    "mis_prev_arv = 0\n",
    "available_prev_arv = 0\n",
    "for d in data_prev_arvs:\n",
    "    for hca_id in d:\n",
    "        short_name = hca_id[:-32]\n",
    "        obj_uuid = hca_id[-32:]\n",
    "        try:\n",
    "            hca = HivCareAdherence.objects.using('bhp066').get(id=obj_uuid)\n",
    "        except HivCareAdherence.DoesNotExist:\n",
    "            pass\n",
    "        else:\n",
    "            arv = Arv.objects.get(short_name=short_name)\n",
    "            if not arv in hca.prev_arvs.all():\n",
    "                mis_prev_arv += 1\n",
    "            else:\n",
    "                available_prev_arv += 1\n",
    "print(\"Missing prev arv: \", mis_prev_arv)            \n",
    "print(\"Available Prev Arv: \", available_prev_arv)"
   ]
  },
  {
   "cell_type": "code",
   "execution_count": 8,
   "metadata": {},
   "outputs": [
    {
     "name": "stdout",
     "output_type": "stream",
     "text": [
      "len arvs:  292\n",
      "len prev arvs:  311\n"
     ]
    }
   ],
   "source": [
    "still_missing_arvs = []\n",
    "still_missing_prev_arvs = []\n",
    "for id in ids:\n",
    "    try:\n",
    "        hca = HivCareAdherence.objects.using('bhp066').get(id=id)\n",
    "    except HivCareAdherence.DoesNotExist:\n",
    "        print(\"missing\", id)\n",
    "    else:\n",
    "        if not hca.arvs.all():\n",
    "            still_missing_arvs.append([hca.subject_visit.subject_identifier, id])\n",
    "        if not hca.prev_arvs.all():\n",
    "            still_missing_prev_arvs.append([hca.subject_visit.subject_identifier, id])\n",
    "print(\"len arvs: \", len(still_missing_arvs))\n",
    "print(\"len prev arvs: \", len(still_missing_prev_arvs))"
   ]
  },
  {
   "cell_type": "code",
   "execution_count": null,
   "metadata": {},
   "outputs": [],
   "source": []
  }
 ],
 "metadata": {
  "kernelspec": {
   "display_name": "Django Shell-Plus",
   "language": "python",
   "name": "django_extensions"
  },
  "language_info": {
   "codemirror_mode": {
    "name": "ipython",
    "version": 3
   },
   "file_extension": ".py",
   "mimetype": "text/x-python",
   "name": "python",
   "nbconvert_exporter": "python",
   "pygments_lexer": "ipython3",
   "version": "3.6.6"
  }
 },
 "nbformat": 4,
 "nbformat_minor": 2
}
