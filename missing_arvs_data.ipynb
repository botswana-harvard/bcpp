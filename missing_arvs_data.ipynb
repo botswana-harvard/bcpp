{
 "cells": [
  {
   "cell_type": "code",
   "execution_count": null,
   "metadata": {},
   "outputs": [],
   "source": [
    "# ssh -f django@bcpp3.bhp.org.bw -L5003:localhost:3306 -N\n",
    "# ssh -f django@bhp066.bhp.org.bw -L5002:localhost:3306 -N"
   ]
  },
  {
   "cell_type": "code",
   "execution_count": 21,
   "metadata": {},
   "outputs": [
    {
     "name": "stdout",
     "output_type": "stream",
     "text": [
      "164\n"
     ]
    }
   ],
   "source": [
    "# List of missing subject identifier\n",
    "missing_arvs = []\n",
    "file_name = '/Users/ckgathi/Downloads/BHP_FILE/check19.csv'\n",
    "f = open(file_name, 'r')\n",
    "lines = f.readlines()\n",
    "lines.pop(0)\n",
    "for line in lines:\n",
    "    line = line.strip()\n",
    "    missing_arvs.append(line)\n",
    "\n",
    "missing_arvs = list(set(missing_arvs))\n",
    "print(len(missing_arvs))"
   ]
  },
  {
   "cell_type": "code",
   "execution_count": 22,
   "metadata": {},
   "outputs": [
    {
     "name": "stdout",
     "output_type": "stream",
     "text": [
      "313\n"
     ]
    }
   ],
   "source": [
    "# List of id for missing avrs data for HivCareAdherence\n",
    "from bcpp_subject.models import HivCareAdherence\n",
    "from django_pandas.io import read_frame\n",
    "\n",
    "hiv_care_adherence = HivCareAdherence.objects.using('bhp066').filter(subject_visit__subject_identifier__in=missing_arvs)\n",
    "print(hiv_care_adherence.count())\n",
    "df = read_frame(hiv_care_adherence)\n",
    "hiv_care_adherence_ids = df['id'].tolist()\n",
    "ids = []\n",
    "for id in hiv_care_adherence_ids:\n",
    "    ids.append(id.hex)\n",
    "ids = list(set(ids))"
   ]
  },
  {
   "cell_type": "code",
   "execution_count": 26,
   "metadata": {},
   "outputs": [
    {
     "name": "stdout",
     "output_type": "stream",
     "text": [
      "Found items: 11\n",
      "[['Lopinavir/ritonavirac7cc51b37d14fe1a66174e3f2779fe0'], ['Lopinavir/ritonavir158bfd8990b54f0b9289c072a74ab53e'], ['Lopinavir/ritonavir7fa639271ec945f0b6985b2d65436ed0'], ['Lopinavir/ritonavir513401b4c9bd4b00853c693fa43021c6'], ['Lopinavir/ritonavirf657ef76c15545d6a9809f111b46d01c'], ['Lopinavir/ritonavirbad2f0b476124ceb91ae25d055643473'], ['Lopinavir/ritonavire345543f343e4134837815dfdfa63eb6'], ['Lopinavir/ritonavirb378bbd68cc143fcac81c2d332f92ecb'], ['Lopinavir/ritonavir12be8cb2914a4d4abdc1b242a48c2745'], ['Lopinavir/ritonavir006e8dcaea8e472f95285025421df923'], ['Lopinavir/ritonavir4e4646ba71b24cf49aafc702de72a781']]\n"
     ]
    }
   ],
   "source": [
    "import MySQLdb\n",
    "import pandas as pd\n",
    "db_name = 'bcpp015'\n",
    "connection = MySQLdb.connect(host='127.0.0.1', port=5003,user='root', passwd='cc3721b', db=f'{db_name}')\n",
    "data = []\n",
    "\n",
    "count_found = 0\n",
    "for idd in ids:\n",
    "    sql = f\"SELECT CONCAT(bcpp_subject_arv.short_name, bcpp_subject_hivcareadherence_arvs.hivcareadherence_id) as avr_id FROM bcpp_subject_arv INNER JOIN bcpp_subject_hivcareadherence_arvs ON bcpp_subject_arv.id = bcpp_subject_hivcareadherence_arvs.arv_id WHERE bcpp_subject_hivcareadherence_arvs.hivcareadherence_id = \\'{idd}\\';\"\n",
    "    df_arvs = pd.read_sql(sql, con=connection)\n",
    "    if not df_arvs.empty:\n",
    "        arvs_ids_list = df_arvs['avr_id'].tolist()\n",
    "        if len(arvs_ids_list) > 1:\n",
    "            count_found += len(arvs_ids_list)\n",
    "        else:\n",
    "            count_found += 1\n",
    "        data.append(arvs_ids_list)\n",
    "print(f\"Found items: {count_found}\")\n",
    "print(data)"
   ]
  },
  {
   "cell_type": "code",
   "execution_count": 27,
   "metadata": {},
   "outputs": [],
   "source": [
    "# Update central server\n",
    "from bcpp_subject.models import Arv\n",
    "count_moved = 0\n",
    "ccc = []\n",
    "items = 0\n",
    "for d in data:\n",
    "    for hca_id in d:\n",
    "        short_name = hca_id[:-32]\n",
    "        obj_uuid = hca_id[-32:]\n",
    "        try:\n",
    "            hca = HivCareAdherence.objects.using('bhp066').get(id=obj_uuid)\n",
    "        except HivCareAdherence.DoesNotExist:\n",
    "            print(f'this is a problem it needs to be moved to the server {hca_id}')\n",
    "        else:\n",
    "            arv = Arv.objects.get(short_name=short_name)\n",
    "            if not arv in hca.arvs.all():\n",
    "                hca.arvs.add(arv)\n",
    "                hca.save_base(using='bhp066', raw=True)\n",
    "                count_moved += 1\n",
    "                ccc.append(obj_uuid)\n",
    "        items += 1"
   ]
  },
  {
   "cell_type": "code",
   "execution_count": 31,
   "metadata": {},
   "outputs": [
    {
     "name": "stdout",
     "output_type": "stream",
     "text": [
      "Missing:  0\n",
      "Available:  11\n"
     ]
    }
   ],
   "source": [
    "# Check if the data has been moved\n",
    "mis_arv = 0\n",
    "available = 0\n",
    "for d in data:\n",
    "    for hca_id in d:\n",
    "        short_name = hca_id[:-32]\n",
    "        obj_uuid = hca_id[-32:]\n",
    "        try:\n",
    "            hca = HivCareAdherence.objects.using('bhp066').get(id=obj_uuid)\n",
    "        except HivCareAdherence.DoesNotExist:\n",
    "            pass\n",
    "        else:\n",
    "            arv = Arv.objects.get(short_name=short_name)\n",
    "            if not arv in hca.arvs.all():\n",
    "                mis_arv += 1\n",
    "            else:\n",
    "                available += 1\n",
    "print(\"Missing: \", mis_arv)            \n",
    "print(\"Available: \", available)"
   ]
  },
  {
   "cell_type": "code",
   "execution_count": null,
   "metadata": {},
   "outputs": [],
   "source": []
  }
 ],
 "metadata": {
  "kernelspec": {
   "display_name": "Django Shell-Plus",
   "language": "python",
   "name": "django_extensions"
  },
  "language_info": {
   "codemirror_mode": {
    "name": "ipython",
    "version": 3
   },
   "file_extension": ".py",
   "mimetype": "text/x-python",
   "name": "python",
   "nbconvert_exporter": "python",
   "pygments_lexer": "ipython3",
   "version": "3.6.6"
  }
 },
 "nbformat": 4,
 "nbformat_minor": 2
}
