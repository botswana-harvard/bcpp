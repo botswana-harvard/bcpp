{
 "cells": [
  {
   "cell_type": "code",
   "execution_count": null,
   "metadata": {},
   "outputs": [],
   "source": [
    "# ssh -f django@bcpp3.bhp.org.bw -L5003:localhost:3306 -N\n",
    "# ssh -f django@bhp066.bhp.org.bw -L5002:localhost:3306 -N"
   ]
  },
  {
   "cell_type": "code",
   "execution_count": 1,
   "metadata": {},
   "outputs": [
    {
     "name": "stdout",
     "output_type": "stream",
     "text": [
      "164\n"
     ]
    }
   ],
   "source": [
    "# List of missing subject identifier\n",
    "missing_arvs = []\n",
    "file_name = '/Users/ckgathi/Downloads/BHP_FILE/check19.csv'\n",
    "f = open(file_name, 'r')\n",
    "lines = f.readlines()\n",
    "lines.pop(0)\n",
    "for line in lines:\n",
    "    line = line.strip()\n",
    "    missing_arvs.append(line)\n",
    "\n",
    "missing_arvs = list(set(missing_arvs))\n",
    "print(len(missing_arvs))"
   ]
  },
  {
   "cell_type": "code",
   "execution_count": 10,
   "metadata": {},
   "outputs": [
    {
     "name": "stdout",
     "output_type": "stream",
     "text": [
      "313\n"
     ]
    }
   ],
   "source": [
    "# List of id for missing avrs data for HivCareAdherence\n",
    "from bcpp_subject.models import HivCareAdherence\n",
    "from django_pandas.io import read_frame\n",
    "\n",
    "hiv_care_adherence = HivCareAdherence.objects.using('bhp066').filter(subject_visit__subject_identifier__in=missing_arvs)\n",
    "print(hiv_care_adherence.count())\n",
    "df = read_frame(hiv_care_adherence)\n",
    "hiv_care_adherence_ids = df['id'].tolist()\n",
    "ids = []\n",
    "for id in hiv_care_adherence_ids:\n",
    "    ids.append(id.hex)\n",
    "ids = list(set(ids))"
   ]
  },
  {
   "cell_type": "code",
   "execution_count": 41,
   "metadata": {},
   "outputs": [
    {
     "data": {
      "text/plain": [
       "[['Zidovudine236fd99360d945e5a855dffba10f18a8',\n",
       "  'Nevirapine236fd99360d945e5a855dffba10f18a8'],\n",
       " ['Lopinavir/ritonavir158bfd8990b54f0b9289c072a74ab53e']]"
      ]
     },
     "execution_count": 41,
     "metadata": {},
     "output_type": "execute_result"
    }
   ],
   "source": [
    "import MySQLdb\n",
    "import pandas as pd\n",
    "db_name = 'bcpp015'\n",
    "connection = MySQLdb.connect(host='127.0.0.1', port=5003,user='root', passwd='cc3721b', db=f'{db_name}')\n",
    "data = []\n",
    "\n",
    "for idd in ids:\n",
    "    sql = f\"SELECT CONCAT(bcpp_subject_arv.short_name, bcpp_subject_hivcareadherence_arvs.hivcareadherence_id) as avr_id FROM bcpp_subject_arv INNER JOIN bcpp_subject_hivcareadherence_arvs ON bcpp_subject_arv.id = bcpp_subject_hivcareadherence_arvs.arv_id WHERE bcpp_subject_hivcareadherence_arvs.hivcareadherence_id = \\'{idd}\\';\"\n",
    "    df_arvs = pd.read_sql(sql, con=connection)\n",
    "    if not df_arvs.empty:\n",
    "        arvs_ids_list = df_arvs['avr_id'].tolist()\n",
    "        data.append(arvs_ids_list)"
   ]
  },
  {
   "cell_type": "code",
   "execution_count": null,
   "metadata": {},
   "outputs": [],
   "source": [
    "# Update central server\n",
    "from bcpp_subject.models import Arv\n",
    "for d in data:\n",
    "    for hca_id in d:\n",
    "        short_name = hca_id[:-32]\n",
    "        obj_uuid = hca_id[-32:]\n",
    "        try:\n",
    "            hca = HivCareAdherence.objects.using('bhp066').get(id=hca_id)\n",
    "        except HivCareAdherence.DoesNotExist:\n",
    "            print(f'this is a problem it needs to be moved to the server {hca_id}')\n",
    "        else:\n",
    "            arv = Arv.objects.get(short_name=short_name)\n",
    "            a1.arvs.add(arv)\n",
    "            hca.using('bhp066').save()"
   ]
  }
 ],
 "metadata": {
  "kernelspec": {
   "display_name": "Django Shell-Plus",
   "language": "python",
   "name": "django_extensions"
  },
  "language_info": {
   "codemirror_mode": {
    "name": "ipython",
    "version": 3
   },
   "file_extension": ".py",
   "mimetype": "text/x-python",
   "name": "python",
   "nbconvert_exporter": "python",
   "pygments_lexer": "ipython3",
   "version": "3.6.6"
  }
 },
 "nbformat": 4,
 "nbformat_minor": 2
}
