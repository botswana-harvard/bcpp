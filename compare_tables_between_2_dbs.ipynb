{
 "cells": [
  {
   "cell_type": "code",
   "execution_count": 46,
   "metadata": {},
   "outputs": [
    {
     "data": {
      "text/plain": [
       "{'bcpp_subject_ceaopd': ['injury_accident',\n",
       "  'pregnancy_related',\n",
       "  'other_care_count',\n",
       "  'cancer_care',\n",
       "  'hiv_related',\n",
       "  'other_care',\n",
       "  'chronic_disease',\n",
       "  'tb_care',\n",
       "  'hiv_related_none_tb',\n",
       "  'subject_visit_id',\n",
       "  'care_sought',\n",
       "  'medication_prescribed',\n",
       "  'tests_ordered'],\n",
       " 'edc_sync_history': ['acknowledged', 'ack_datetime', 'ack_user']}"
      ]
     },
     "execution_count": 46,
     "metadata": {},
     "output_type": "execute_result"
    }
   ],
   "source": [
    "def db_tables(host=None, port=None, user=None, passwd=None, db=None):\n",
    "    \"\"\"Return a list of tables from a database.\n",
    "    \"\"\"\n",
    "    # Make the connection\n",
    "    connection = MySQLdb.connect(host=host, port=port,user=user, passwd=passwd, db=db)\n",
    "    cursor = connection.cursor()\n",
    "    table_list = []\n",
    "    # Lists the tables in demo\n",
    "    sql = \"SHOW TABLES;\"\n",
    "\n",
    "    # Execute the SQL query and get the response\n",
    "    cursor.execute(sql)\n",
    "    response = cursor.fetchall()\n",
    "\n",
    "    # Loop through the response and print table names\n",
    "    for row in response:\n",
    "        table_list.append(row[0])\n",
    "    return table_list\n",
    "\n",
    "def table_columns(host=None, port=None, user=None, passwd=None, db=None):\n",
    "    \"\"\"Return a dict of of columns for a table.\n",
    "    \"\"\"\n",
    "    connection = MySQLdb.connect(host=host, port=port,user=user, passwd=passwd, db=db)\n",
    "    cursor = connection.cursor()\n",
    "    tables = \"SHOW TABLES;\"\n",
    "    cursor.execute(tables)\n",
    "    response = cursor.fetchall()\n",
    "    table_columns_dict = {}\n",
    "    for row in response:\n",
    "        table_name = row[0]\n",
    "        cursor.execute(f'desc {table_name}')\n",
    "        table_columns_dict[table_name] = [column[0] for column in cursor.fetchall()]\n",
    "    connection.close()\n",
    "    return table_columns_dict\n",
    "\n",
    "# Tables and columns dictionaries\n",
    "central_server_table_columns = table_columns(host='127.0.0.1', port=5003,user='root', passwd='cc3721b', db='edc')\n",
    "community_server_table_columns = table_columns(host='127.0.0.1', port=5002, user='root', passwd='cc3721b', db='mmankgodi')\n",
    "\n",
    "# Central server tables\n",
    "tables = db_tables(host='127.0.0.1', port=5003,user='root', passwd='cc3721b', db='edc')\n",
    "def diff_btwn_2_tables(table_list=[], table_columns_dict1=None, table_columns_dict2=None):\n",
    "    \"\"\"Return a dictionary of lists diff.\n",
    "    \"\"\"\n",
    "    table_columns_diff = {}\n",
    "    for table in table_list:\n",
    "        list1 = table_columns_dict1.get(table, '')\n",
    "        list2 = table_columns_dict2.get(table, '')\n",
    "        if list1 and list2:\n",
    "            if list(set(list1) - set(list2)) + list(set(list2) - set(list1)):\n",
    "                table_columns_diff[table] = list(set(list1) - set(list2)) + list(set(list2) - set(list1))\n",
    "    return table_columns_diff\n",
    "\n",
    "table_column_diff = diff_btwn_2_tables(\n",
    "    table_list=tables,\n",
    "    table_columns_dict1=central_server_table_columns,\n",
    "    table_columns_dict2=community_server_table_columns)\n",
    "table_column_diff"
   ]
  }
 ],
 "metadata": {
  "kernelspec": {
   "display_name": "Python 3",
   "language": "python",
   "name": "python3"
  },
  "language_info": {
   "codemirror_mode": {
    "name": "ipython",
    "version": 3
   },
   "file_extension": ".py",
   "mimetype": "text/x-python",
   "name": "python",
   "nbconvert_exporter": "python",
   "pygments_lexer": "ipython3",
   "version": "3.6.1"
  }
 },
 "nbformat": 4,
 "nbformat_minor": 2
}
