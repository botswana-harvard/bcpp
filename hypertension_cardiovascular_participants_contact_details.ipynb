{
 "cells": [
  {
   "cell_type": "code",
   "execution_count": null,
   "metadata": {},
   "outputs": [],
   "source": [
    "from bcpp_subject.models import HypertensionCardiovascular, SubjectLocator, SubjectConsent\n",
    "from member.models import HouseholdMember\n",
    "\n",
    "map_area = 'mmankgodi'\n",
    "hypertension_cv = HypertensionCardiovascular.objects.filter(\n",
    "    subject_visit__household_member__household_structure__household__plot__map_area=map_area)\n",
    "subject_identifiers = []\n",
    "for hcv in hypertension_cv:\n",
    "    subject_identifiers.append(hcv.subject_visit.subject_identifier)\n",
    "\n",
    "subject_identifiers = list(set(subject_identifiers))\n",
    "\n",
    "locators = SubjectLocator.objects.filter(subject_identifier__in=subject_identifiers, may_follow_up='Yes')\n",
    "\n",
    "requested_data = []\n",
    "for locator in locators:\n",
    "    firstname = ''\n",
    "    lastname = ''\n",
    "    consent = SubjectConsent.objects.filter(subject_identifier=locator.subject_identifier).last()\n",
    "    if consent:\n",
    "        firstname = consent.first_name\n",
    "        lastname = consent.last_name\n",
    "    else:\n",
    "        member = HouseholdMember.objects.filter(subject_identifier=locator.subject_identifier).last()\n",
    "        firstname = member.first_name\n",
    "        lastname = member.last_name\n",
    "    requested_data.append([locator.subject_identifier, firstname, lastname, locator.subject_cell])\n",
    "\n",
    "import pandas as pd\n",
    "df = pd.DataFrame(requested_data)\n",
    "df.to_csv('mmankgodi_mosepele_data.csv', encoding='utf-8')"
   ]
  }
 ],
 "metadata": {
  "kernelspec": {
   "display_name": "Django Shell-Plus",
   "language": "python",
   "name": "django_extensions"
  },
  "language_info": {
   "codemirror_mode": {
    "name": "ipython",
    "version": 3
   },
   "file_extension": ".py",
   "mimetype": "text/x-python",
   "name": "python",
   "nbconvert_exporter": "python",
   "pygments_lexer": "ipython3",
   "version": "3.6.6"
  }
 },
 "nbformat": 4,
 "nbformat_minor": 2
}
